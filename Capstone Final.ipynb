{
    "cells": [
        {
            "cell_type": "markdown",
            "metadata": {
                "collapsed": true
            },
            "source": "# Capstone Final"
        },
        {
            "cell_type": "markdown",
            "metadata": {},
            "source": "## Introduction/Business Problem\nThe idea of this submission is to find a place to start a new caf\u00e9 in Amsterdam, using data from Foursquare. \nI will look at the density of caf\u00e9's in the centre area. The lowest density of caf\u00e9's versus a relatively high density of other shops would be a good indication."
        },
        {
            "cell_type": "code",
            "execution_count": null,
            "metadata": {},
            "outputs": [],
            "source": ""
        },
        {
            "cell_type": "markdown",
            "metadata": {},
            "source": "## Data\nI will use the FourSquare data to solve this issue. Possibly I also need some master data of streets / area's in Amsterdam.\n1) Will start with listing all vanues in the centre of Amsterdam, if possible. \n2) Will select certain features which are important, for example : number of caf\u00e9's in the area as well as shops and restaurants.\n3) Next step is to divide the area into sections and calculate the densities. For caf\u00e9's I need a low density, for shops high and for restaurants low."
        },
        {
            "cell_type": "code",
            "execution_count": null,
            "metadata": {},
            "outputs": [],
            "source": ""
        }
    ],
    "metadata": {
        "kernelspec": {
            "display_name": "Python 3.6",
            "language": "python",
            "name": "python3"
        },
        "language_info": {
            "codemirror_mode": {
                "name": "ipython",
                "version": 3
            },
            "file_extension": ".py",
            "mimetype": "text/x-python",
            "name": "python",
            "nbconvert_exporter": "python",
            "pygments_lexer": "ipython3",
            "version": "3.6.8"
        }
    },
    "nbformat": 4,
    "nbformat_minor": 1
}